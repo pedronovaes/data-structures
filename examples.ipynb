{
 "cells": [
  {
   "cell_type": "markdown",
   "metadata": {},
   "source": [
    "#### Libraries"
   ]
  },
  {
   "cell_type": "code",
   "execution_count": 1,
   "metadata": {
    "ExecuteTime": {
     "end_time": "2021-01-21T03:13:07.016228Z",
     "start_time": "2021-01-21T03:13:06.909911Z"
    }
   },
   "outputs": [],
   "source": [
    "from src.stack import Stack\n",
    "from src.queue import Queue\n",
    "from src.linked_list import LinkedList\n",
    "from src.heap import Heap\n",
    "from src.graph import Graph"
   ]
  },
  {
   "cell_type": "markdown",
   "metadata": {},
   "source": [
    "#### Stack"
   ]
  },
  {
   "cell_type": "code",
   "execution_count": 2,
   "metadata": {
    "ExecuteTime": {
     "end_time": "2021-01-21T03:13:07.031742Z",
     "start_time": "2021-01-21T03:13:07.018438Z"
    }
   },
   "outputs": [],
   "source": [
    "s = Stack()"
   ]
  },
  {
   "cell_type": "code",
   "execution_count": 3,
   "metadata": {
    "ExecuteTime": {
     "end_time": "2021-01-21T03:13:07.038893Z",
     "start_time": "2021-01-21T03:13:07.034198Z"
    }
   },
   "outputs": [],
   "source": [
    "for i in [10, 20, 5]:\n",
    "    s.push(i)"
   ]
  },
  {
   "cell_type": "code",
   "execution_count": 4,
   "metadata": {
    "ExecuteTime": {
     "end_time": "2021-01-21T03:13:07.044570Z",
     "start_time": "2021-01-21T03:13:07.040989Z"
    }
   },
   "outputs": [
    {
     "name": "stdout",
     "output_type": "stream",
     "text": [
      "5 20 10 \n"
     ]
    }
   ],
   "source": [
    "print(s)"
   ]
  },
  {
   "cell_type": "code",
   "execution_count": 5,
   "metadata": {
    "ExecuteTime": {
     "end_time": "2021-01-21T03:13:07.056084Z",
     "start_time": "2021-01-21T03:13:07.046528Z"
    }
   },
   "outputs": [
    {
     "data": {
      "text/plain": [
       "5"
      ]
     },
     "execution_count": 5,
     "metadata": {},
     "output_type": "execute_result"
    }
   ],
   "source": [
    "s.pop()"
   ]
  },
  {
   "cell_type": "code",
   "execution_count": 6,
   "metadata": {
    "ExecuteTime": {
     "end_time": "2021-01-21T03:13:07.062806Z",
     "start_time": "2021-01-21T03:13:07.057120Z"
    }
   },
   "outputs": [
    {
     "name": "stdout",
     "output_type": "stream",
     "text": [
      "20 10 \n"
     ]
    }
   ],
   "source": [
    "print(s)"
   ]
  },
  {
   "cell_type": "markdown",
   "metadata": {},
   "source": [
    "#### Queue"
   ]
  },
  {
   "cell_type": "code",
   "execution_count": 7,
   "metadata": {
    "ExecuteTime": {
     "end_time": "2021-01-21T03:13:07.069213Z",
     "start_time": "2021-01-21T03:13:07.063636Z"
    }
   },
   "outputs": [],
   "source": [
    "q = Queue()"
   ]
  },
  {
   "cell_type": "code",
   "execution_count": 8,
   "metadata": {
    "ExecuteTime": {
     "end_time": "2021-01-21T03:13:07.075646Z",
     "start_time": "2021-01-21T03:13:07.071189Z"
    }
   },
   "outputs": [],
   "source": [
    "for i in [10, 20, 5]:\n",
    "    q.enqueue(i)"
   ]
  },
  {
   "cell_type": "code",
   "execution_count": 9,
   "metadata": {
    "ExecuteTime": {
     "end_time": "2021-01-21T03:13:07.082488Z",
     "start_time": "2021-01-21T03:13:07.076888Z"
    }
   },
   "outputs": [
    {
     "name": "stdout",
     "output_type": "stream",
     "text": [
      "10 20 5 \n"
     ]
    }
   ],
   "source": [
    "print(q)"
   ]
  },
  {
   "cell_type": "code",
   "execution_count": 10,
   "metadata": {
    "ExecuteTime": {
     "end_time": "2021-01-21T03:13:07.089982Z",
     "start_time": "2021-01-21T03:13:07.083373Z"
    }
   },
   "outputs": [
    {
     "data": {
      "text/plain": [
       "10"
      ]
     },
     "execution_count": 10,
     "metadata": {},
     "output_type": "execute_result"
    }
   ],
   "source": [
    "q.dequeue()"
   ]
  },
  {
   "cell_type": "code",
   "execution_count": 11,
   "metadata": {
    "ExecuteTime": {
     "end_time": "2021-01-21T03:13:07.098735Z",
     "start_time": "2021-01-21T03:13:07.090906Z"
    }
   },
   "outputs": [
    {
     "name": "stdout",
     "output_type": "stream",
     "text": [
      "20 5 \n"
     ]
    }
   ],
   "source": [
    "print(q)"
   ]
  },
  {
   "cell_type": "markdown",
   "metadata": {},
   "source": [
    "#### Linked List"
   ]
  },
  {
   "cell_type": "code",
   "execution_count": 12,
   "metadata": {
    "ExecuteTime": {
     "end_time": "2021-01-21T03:13:07.104180Z",
     "start_time": "2021-01-21T03:13:07.100196Z"
    }
   },
   "outputs": [],
   "source": [
    "l = LinkedList()"
   ]
  },
  {
   "cell_type": "code",
   "execution_count": 13,
   "metadata": {
    "ExecuteTime": {
     "end_time": "2021-01-21T03:13:07.110356Z",
     "start_time": "2021-01-21T03:13:07.105205Z"
    }
   },
   "outputs": [],
   "source": [
    "for i in [10, 20, 5]:\n",
    "    l.insert(i)"
   ]
  },
  {
   "cell_type": "code",
   "execution_count": 14,
   "metadata": {
    "ExecuteTime": {
     "end_time": "2021-01-21T03:13:07.116817Z",
     "start_time": "2021-01-21T03:13:07.111338Z"
    }
   },
   "outputs": [
    {
     "name": "stdout",
     "output_type": "stream",
     "text": [
      "5 20 10 \n"
     ]
    }
   ],
   "source": [
    "print(l)"
   ]
  },
  {
   "cell_type": "code",
   "execution_count": 15,
   "metadata": {
    "ExecuteTime": {
     "end_time": "2021-01-21T03:13:07.122860Z",
     "start_time": "2021-01-21T03:13:07.117713Z"
    }
   },
   "outputs": [],
   "source": [
    "l.delete(10)"
   ]
  },
  {
   "cell_type": "code",
   "execution_count": 16,
   "metadata": {
    "ExecuteTime": {
     "end_time": "2021-01-21T03:13:07.128995Z",
     "start_time": "2021-01-21T03:13:07.123907Z"
    }
   },
   "outputs": [
    {
     "name": "stdout",
     "output_type": "stream",
     "text": [
      "5 20 \n"
     ]
    }
   ],
   "source": [
    "print(l)"
   ]
  },
  {
   "cell_type": "code",
   "execution_count": 17,
   "metadata": {
    "ExecuteTime": {
     "end_time": "2021-01-21T03:13:07.134842Z",
     "start_time": "2021-01-21T03:13:07.130211Z"
    }
   },
   "outputs": [],
   "source": [
    "l.delete(40)"
   ]
  },
  {
   "cell_type": "code",
   "execution_count": 18,
   "metadata": {
    "ExecuteTime": {
     "end_time": "2021-01-21T03:13:07.140875Z",
     "start_time": "2021-01-21T03:13:07.136086Z"
    }
   },
   "outputs": [
    {
     "name": "stdout",
     "output_type": "stream",
     "text": [
      "5 20 \n"
     ]
    }
   ],
   "source": [
    "print(l)"
   ]
  },
  {
   "cell_type": "markdown",
   "metadata": {},
   "source": [
    "#### Heap"
   ]
  },
  {
   "cell_type": "code",
   "execution_count": 19,
   "metadata": {
    "ExecuteTime": {
     "end_time": "2021-01-21T03:13:07.147033Z",
     "start_time": "2021-01-21T03:13:07.141874Z"
    }
   },
   "outputs": [],
   "source": [
    "array = [16, 4, 10, 14, 7, 9, 3, 2, 8, 1]\n",
    "\n",
    "h = Heap(heap=array, heap_size=10)"
   ]
  },
  {
   "cell_type": "code",
   "execution_count": 20,
   "metadata": {
    "ExecuteTime": {
     "end_time": "2021-01-21T03:13:07.153826Z",
     "start_time": "2021-01-21T03:13:07.148361Z"
    }
   },
   "outputs": [
    {
     "name": "stdout",
     "output_type": "stream",
     "text": [
      "16 4 10 14 7 9 3 2 8 1 \n"
     ]
    }
   ],
   "source": [
    "print(h)"
   ]
  },
  {
   "cell_type": "code",
   "execution_count": 21,
   "metadata": {
    "ExecuteTime": {
     "end_time": "2021-01-21T03:13:07.159841Z",
     "start_time": "2021-01-21T03:13:07.155537Z"
    }
   },
   "outputs": [],
   "source": [
    "h.max_heapify(2)"
   ]
  },
  {
   "cell_type": "code",
   "execution_count": 22,
   "metadata": {
    "ExecuteTime": {
     "end_time": "2021-01-21T03:13:07.166271Z",
     "start_time": "2021-01-21T03:13:07.161156Z"
    }
   },
   "outputs": [
    {
     "name": "stdout",
     "output_type": "stream",
     "text": [
      "16 14 10 8 7 9 3 2 4 1 \n"
     ]
    }
   ],
   "source": [
    "print(h)"
   ]
  },
  {
   "cell_type": "code",
   "execution_count": 23,
   "metadata": {
    "ExecuteTime": {
     "end_time": "2021-01-21T03:13:07.172641Z",
     "start_time": "2021-01-21T03:13:07.169039Z"
    }
   },
   "outputs": [],
   "source": [
    "array = [4, 1, 3, 2, 16, 9, 10, 14, 8, 7]\n",
    "\n",
    "h = Heap(heap=array, heap_size=10)"
   ]
  },
  {
   "cell_type": "code",
   "execution_count": 24,
   "metadata": {
    "ExecuteTime": {
     "end_time": "2021-01-21T03:13:07.178898Z",
     "start_time": "2021-01-21T03:13:07.174105Z"
    }
   },
   "outputs": [
    {
     "name": "stdout",
     "output_type": "stream",
     "text": [
      "4 1 3 2 16 9 10 14 8 7 \n"
     ]
    }
   ],
   "source": [
    "print(h)"
   ]
  },
  {
   "cell_type": "code",
   "execution_count": 25,
   "metadata": {
    "ExecuteTime": {
     "end_time": "2021-01-21T03:13:07.184921Z",
     "start_time": "2021-01-21T03:13:07.180195Z"
    }
   },
   "outputs": [],
   "source": [
    "h.build_max_heap()"
   ]
  },
  {
   "cell_type": "code",
   "execution_count": 26,
   "metadata": {
    "ExecuteTime": {
     "end_time": "2021-01-21T03:13:07.191667Z",
     "start_time": "2021-01-21T03:13:07.186144Z"
    }
   },
   "outputs": [
    {
     "name": "stdout",
     "output_type": "stream",
     "text": [
      "16 14 10 8 7 9 3 2 4 1 \n"
     ]
    }
   ],
   "source": [
    "print(h)"
   ]
  },
  {
   "cell_type": "markdown",
   "metadata": {},
   "source": [
    "#### Graph"
   ]
  },
  {
   "cell_type": "code",
   "execution_count": 27,
   "metadata": {
    "ExecuteTime": {
     "end_time": "2021-01-21T03:13:07.197891Z",
     "start_time": "2021-01-21T03:13:07.192643Z"
    }
   },
   "outputs": [],
   "source": [
    "g = Graph(num_vertex=6)"
   ]
  },
  {
   "cell_type": "code",
   "execution_count": 28,
   "metadata": {
    "ExecuteTime": {
     "end_time": "2021-01-21T03:13:07.203957Z",
     "start_time": "2021-01-21T03:13:07.199128Z"
    }
   },
   "outputs": [],
   "source": [
    "g.add_edge(0, 1)\n",
    "g.add_edge(0, 2)\n",
    "g.add_edge(1, 3)\n",
    "g.add_edge(1, 4)\n",
    "g.add_edge(2, 4)\n",
    "g.add_edge(3, 5)\n",
    "g.add_edge(4, 5)"
   ]
  },
  {
   "cell_type": "code",
   "execution_count": 29,
   "metadata": {
    "ExecuteTime": {
     "end_time": "2021-01-21T03:13:07.211089Z",
     "start_time": "2021-01-21T03:13:07.204873Z"
    }
   },
   "outputs": [
    {
     "name": "stdout",
     "output_type": "stream",
     "text": [
      "[[0 1 1 0 0 0]\n",
      " [1 0 0 1 1 0]\n",
      " [1 0 0 0 1 0]\n",
      " [0 1 0 0 0 1]\n",
      " [0 1 1 0 0 1]\n",
      " [0 0 0 1 1 0]]\n"
     ]
    }
   ],
   "source": [
    "print(g.G)"
   ]
  },
  {
   "cell_type": "code",
   "execution_count": 30,
   "metadata": {
    "ExecuteTime": {
     "end_time": "2021-01-21T03:13:07.218514Z",
     "start_time": "2021-01-21T03:13:07.212086Z"
    }
   },
   "outputs": [],
   "source": [
    "d, pi = g.BFS(0)"
   ]
  },
  {
   "cell_type": "code",
   "execution_count": 31,
   "metadata": {
    "ExecuteTime": {
     "end_time": "2021-01-21T03:13:21.481332Z",
     "start_time": "2021-01-21T03:13:21.468857Z"
    }
   },
   "outputs": [
    {
     "name": "stdout",
     "output_type": "stream",
     "text": [
      "0\n",
      "1\n",
      "3\n",
      "5\n"
     ]
    }
   ],
   "source": [
    "g.print_path(pi, 0, 5)"
   ]
  }
 ],
 "metadata": {
  "kernelspec": {
   "display_name": "Python 3",
   "language": "python",
   "name": "python3"
  },
  "language_info": {
   "codemirror_mode": {
    "name": "ipython",
    "version": 3
   },
   "file_extension": ".py",
   "mimetype": "text/x-python",
   "name": "python",
   "nbconvert_exporter": "python",
   "pygments_lexer": "ipython3",
   "version": "3.7.3"
  }
 },
 "nbformat": 4,
 "nbformat_minor": 4
}
