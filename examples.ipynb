{
 "cells": [
  {
   "cell_type": "markdown",
   "metadata": {},
   "source": [
    "#### Libraries"
   ]
  },
  {
   "cell_type": "code",
   "execution_count": 1,
   "metadata": {
    "ExecuteTime": {
     "end_time": "2021-01-19T17:08:25.436019Z",
     "start_time": "2021-01-19T17:08:25.426267Z"
    }
   },
   "outputs": [],
   "source": [
    "from src.stack import Stack\n",
    "from src.queue import Queue\n",
    "from src.linked_list import LinkedList\n",
    "from src.heap import Heap"
   ]
  },
  {
   "cell_type": "markdown",
   "metadata": {},
   "source": [
    "#### Stack"
   ]
  },
  {
   "cell_type": "code",
   "execution_count": 2,
   "metadata": {
    "ExecuteTime": {
     "end_time": "2021-01-19T17:08:25.443788Z",
     "start_time": "2021-01-19T17:08:25.439327Z"
    }
   },
   "outputs": [],
   "source": [
    "s = Stack()"
   ]
  },
  {
   "cell_type": "code",
   "execution_count": 3,
   "metadata": {
    "ExecuteTime": {
     "end_time": "2021-01-19T17:08:25.450695Z",
     "start_time": "2021-01-19T17:08:25.446651Z"
    }
   },
   "outputs": [],
   "source": [
    "for i in [10, 20, 5]:\n",
    "    s.push(i)"
   ]
  },
  {
   "cell_type": "code",
   "execution_count": 4,
   "metadata": {
    "ExecuteTime": {
     "end_time": "2021-01-19T17:08:25.457616Z",
     "start_time": "2021-01-19T17:08:25.452592Z"
    }
   },
   "outputs": [
    {
     "name": "stdout",
     "output_type": "stream",
     "text": [
      "5 20 10 \n"
     ]
    }
   ],
   "source": [
    "print(s)"
   ]
  },
  {
   "cell_type": "code",
   "execution_count": 5,
   "metadata": {
    "ExecuteTime": {
     "end_time": "2021-01-19T17:08:25.469528Z",
     "start_time": "2021-01-19T17:08:25.459168Z"
    }
   },
   "outputs": [
    {
     "data": {
      "text/plain": [
       "5"
      ]
     },
     "execution_count": 5,
     "metadata": {},
     "output_type": "execute_result"
    }
   ],
   "source": [
    "s.pop()"
   ]
  },
  {
   "cell_type": "code",
   "execution_count": 6,
   "metadata": {
    "ExecuteTime": {
     "end_time": "2021-01-19T17:08:25.477063Z",
     "start_time": "2021-01-19T17:08:25.470545Z"
    }
   },
   "outputs": [
    {
     "name": "stdout",
     "output_type": "stream",
     "text": [
      "20 10 \n"
     ]
    }
   ],
   "source": [
    "print(s)"
   ]
  },
  {
   "cell_type": "markdown",
   "metadata": {},
   "source": [
    "#### Queue"
   ]
  },
  {
   "cell_type": "code",
   "execution_count": 7,
   "metadata": {
    "ExecuteTime": {
     "end_time": "2021-01-19T17:08:25.482757Z",
     "start_time": "2021-01-19T17:08:25.477927Z"
    }
   },
   "outputs": [],
   "source": [
    "q = Queue()"
   ]
  },
  {
   "cell_type": "code",
   "execution_count": 8,
   "metadata": {
    "ExecuteTime": {
     "end_time": "2021-01-19T17:08:25.488596Z",
     "start_time": "2021-01-19T17:08:25.484241Z"
    }
   },
   "outputs": [],
   "source": [
    "for i in [10, 20, 5]:\n",
    "    q.enqueue(i)"
   ]
  },
  {
   "cell_type": "code",
   "execution_count": 9,
   "metadata": {
    "ExecuteTime": {
     "end_time": "2021-01-19T17:08:25.494912Z",
     "start_time": "2021-01-19T17:08:25.489605Z"
    }
   },
   "outputs": [
    {
     "name": "stdout",
     "output_type": "stream",
     "text": [
      "10 20 5 \n"
     ]
    }
   ],
   "source": [
    "print(q)"
   ]
  },
  {
   "cell_type": "code",
   "execution_count": 10,
   "metadata": {
    "ExecuteTime": {
     "end_time": "2021-01-19T17:08:25.501388Z",
     "start_time": "2021-01-19T17:08:25.495978Z"
    }
   },
   "outputs": [
    {
     "data": {
      "text/plain": [
       "10"
      ]
     },
     "execution_count": 10,
     "metadata": {},
     "output_type": "execute_result"
    }
   ],
   "source": [
    "q.dequeue()"
   ]
  },
  {
   "cell_type": "code",
   "execution_count": 11,
   "metadata": {
    "ExecuteTime": {
     "end_time": "2021-01-19T17:08:25.507084Z",
     "start_time": "2021-01-19T17:08:25.502408Z"
    }
   },
   "outputs": [
    {
     "name": "stdout",
     "output_type": "stream",
     "text": [
      "20 5 \n"
     ]
    }
   ],
   "source": [
    "print(q)"
   ]
  },
  {
   "cell_type": "markdown",
   "metadata": {},
   "source": [
    "#### Linked List"
   ]
  },
  {
   "cell_type": "code",
   "execution_count": 12,
   "metadata": {
    "ExecuteTime": {
     "end_time": "2021-01-19T17:08:25.512814Z",
     "start_time": "2021-01-19T17:08:25.508073Z"
    }
   },
   "outputs": [],
   "source": [
    "l = LinkedList()"
   ]
  },
  {
   "cell_type": "code",
   "execution_count": 13,
   "metadata": {
    "ExecuteTime": {
     "end_time": "2021-01-19T17:08:25.519076Z",
     "start_time": "2021-01-19T17:08:25.514665Z"
    }
   },
   "outputs": [],
   "source": [
    "for i in [10, 20, 5]:\n",
    "    l.insert(i)"
   ]
  },
  {
   "cell_type": "code",
   "execution_count": 14,
   "metadata": {
    "ExecuteTime": {
     "end_time": "2021-01-19T17:08:25.525185Z",
     "start_time": "2021-01-19T17:08:25.520078Z"
    }
   },
   "outputs": [
    {
     "name": "stdout",
     "output_type": "stream",
     "text": [
      "5 20 10 \n"
     ]
    }
   ],
   "source": [
    "print(l)"
   ]
  },
  {
   "cell_type": "code",
   "execution_count": 15,
   "metadata": {
    "ExecuteTime": {
     "end_time": "2021-01-19T17:08:25.530669Z",
     "start_time": "2021-01-19T17:08:25.527021Z"
    }
   },
   "outputs": [],
   "source": [
    "l.delete(10)"
   ]
  },
  {
   "cell_type": "code",
   "execution_count": 16,
   "metadata": {
    "ExecuteTime": {
     "end_time": "2021-01-19T17:08:25.536959Z",
     "start_time": "2021-01-19T17:08:25.531507Z"
    }
   },
   "outputs": [
    {
     "name": "stdout",
     "output_type": "stream",
     "text": [
      "5 20 \n"
     ]
    }
   ],
   "source": [
    "print(l)"
   ]
  },
  {
   "cell_type": "code",
   "execution_count": 17,
   "metadata": {
    "ExecuteTime": {
     "end_time": "2021-01-19T17:08:25.542599Z",
     "start_time": "2021-01-19T17:08:25.538008Z"
    }
   },
   "outputs": [],
   "source": [
    "l.delete(40)"
   ]
  },
  {
   "cell_type": "code",
   "execution_count": 18,
   "metadata": {
    "ExecuteTime": {
     "end_time": "2021-01-19T17:08:25.549360Z",
     "start_time": "2021-01-19T17:08:25.543631Z"
    }
   },
   "outputs": [
    {
     "name": "stdout",
     "output_type": "stream",
     "text": [
      "5 20 \n"
     ]
    }
   ],
   "source": [
    "print(l)"
   ]
  },
  {
   "cell_type": "markdown",
   "metadata": {},
   "source": [
    "#### Heap"
   ]
  },
  {
   "cell_type": "code",
   "execution_count": 19,
   "metadata": {
    "ExecuteTime": {
     "end_time": "2021-01-19T17:08:25.555191Z",
     "start_time": "2021-01-19T17:08:25.551162Z"
    }
   },
   "outputs": [],
   "source": [
    "array = [16, 4, 10, 14, 7, 9, 3, 2, 8, 1]\n",
    "\n",
    "h = Heap(heap=array, heap_size=10)"
   ]
  },
  {
   "cell_type": "code",
   "execution_count": 20,
   "metadata": {
    "ExecuteTime": {
     "end_time": "2021-01-19T17:08:25.561331Z",
     "start_time": "2021-01-19T17:08:25.556102Z"
    }
   },
   "outputs": [
    {
     "name": "stdout",
     "output_type": "stream",
     "text": [
      "16 4 10 14 7 9 3 2 8 1 \n"
     ]
    }
   ],
   "source": [
    "print(h)"
   ]
  },
  {
   "cell_type": "code",
   "execution_count": 21,
   "metadata": {
    "ExecuteTime": {
     "end_time": "2021-01-19T17:08:25.567212Z",
     "start_time": "2021-01-19T17:08:25.562192Z"
    }
   },
   "outputs": [],
   "source": [
    "h.max_heapify(2)"
   ]
  },
  {
   "cell_type": "code",
   "execution_count": 22,
   "metadata": {
    "ExecuteTime": {
     "end_time": "2021-01-19T17:08:25.573153Z",
     "start_time": "2021-01-19T17:08:25.568653Z"
    }
   },
   "outputs": [
    {
     "name": "stdout",
     "output_type": "stream",
     "text": [
      "16 14 10 8 7 9 3 2 4 1 \n"
     ]
    }
   ],
   "source": [
    "print(h)"
   ]
  },
  {
   "cell_type": "code",
   "execution_count": 23,
   "metadata": {
    "ExecuteTime": {
     "end_time": "2021-01-19T17:08:25.578982Z",
     "start_time": "2021-01-19T17:08:25.574104Z"
    }
   },
   "outputs": [],
   "source": [
    "array = [4, 1, 3, 2, 16, 9, 10, 14, 8, 7]\n",
    "\n",
    "h = Heap(heap=array, heap_size=10)"
   ]
  },
  {
   "cell_type": "code",
   "execution_count": 24,
   "metadata": {
    "ExecuteTime": {
     "end_time": "2021-01-19T17:08:25.586470Z",
     "start_time": "2021-01-19T17:08:25.579920Z"
    }
   },
   "outputs": [
    {
     "name": "stdout",
     "output_type": "stream",
     "text": [
      "4 1 3 2 16 9 10 14 8 7 \n"
     ]
    }
   ],
   "source": [
    "print(h)"
   ]
  },
  {
   "cell_type": "code",
   "execution_count": 25,
   "metadata": {
    "ExecuteTime": {
     "end_time": "2021-01-19T17:08:25.593758Z",
     "start_time": "2021-01-19T17:08:25.587427Z"
    }
   },
   "outputs": [],
   "source": [
    "h.build_max_heap()"
   ]
  },
  {
   "cell_type": "code",
   "execution_count": 26,
   "metadata": {
    "ExecuteTime": {
     "end_time": "2021-01-19T17:08:25.601181Z",
     "start_time": "2021-01-19T17:08:25.595054Z"
    }
   },
   "outputs": [
    {
     "name": "stdout",
     "output_type": "stream",
     "text": [
      "16 14 10 8 7 9 3 2 4 1 \n"
     ]
    }
   ],
   "source": [
    "print(h)"
   ]
  }
 ],
 "metadata": {
  "kernelspec": {
   "display_name": "Python 3",
   "language": "python",
   "name": "python3"
  },
  "language_info": {
   "codemirror_mode": {
    "name": "ipython",
    "version": 3
   },
   "file_extension": ".py",
   "mimetype": "text/x-python",
   "name": "python",
   "nbconvert_exporter": "python",
   "pygments_lexer": "ipython3",
   "version": "3.7.3"
  }
 },
 "nbformat": 4,
 "nbformat_minor": 4
}
